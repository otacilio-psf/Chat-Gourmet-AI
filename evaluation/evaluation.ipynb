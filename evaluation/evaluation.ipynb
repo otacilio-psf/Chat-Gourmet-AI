{
  "cells": [
    {
      "cell_type": "code",
      "execution_count": 1,
      "id": "14d21c83-4caa-4094-a25a-fc3aab67290e",
      "metadata": {
        "trusted": true
      },
      "outputs": [],
      "source": [
        "from tqdm import tqdm\n",
        "import polars as pl\n",
        "import sys\n",
        "import os"
      ]
    },
    {
      "cell_type": "code",
      "execution_count": 2,
      "id": "df5e3114-1075-4e10-861b-235a587d5ccd",
      "metadata": {
        "trusted": true
      },
      "outputs": [],
      "source": [
        "sys.path.append(os.path.abspath('../core'))"
      ]
    },
    {
      "cell_type": "code",
      "execution_count": 3,
      "id": "01d62b38-5cde-43d0-8c39-cfd330d5d91f",
      "metadata": {
        "trusted": true
      },
      "outputs": [],
      "source": [
        "from retrival import VectorSearcher, HybridSearcher\n",
        "from generation import LLM"
      ]
    },
    {
      "cell_type": "markdown",
      "id": "18c32d43-3859-4fb5-a2d3-830cff2d2ac6",
      "metadata": {},
      "source": [
        "## Get questions"
      ]
    },
    {
      "cell_type": "code",
      "execution_count": 4,
      "id": "83d4d005-b05c-4411-aa9e-19c086c72575",
      "metadata": {
        "trusted": true
      },
      "outputs": [],
      "source": [
        "question_list = pl.read_csv(\"./dataset/synthetic-questions.csv\").to_dicts()"
      ]
    },
    {
      "cell_type": "code",
      "execution_count": 5,
      "id": "b1341bbd-c8e3-40ec-bd2f-df69b3027d7f",
      "metadata": {
        "scrolled": true,
        "trusted": true
      },
      "outputs": [
        {
          "data": {
            "text/plain": [
              "[{'question_id': 1, 'question': 'How do I make a lemon herb baked salmon?'},\n",
              " {'question_id': 2, 'question': 'How do I make homemade hummus?'},\n",
              " {'question_id': 3, 'question': 'What can I make with polenta and mushrooms?'}]"
            ]
          },
          "execution_count": 5,
          "metadata": {},
          "output_type": "execute_result"
        }
      ],
      "source": [
        "question_list[:3]"
      ]
    },
    {
      "cell_type": "markdown",
      "id": "f5f1f924-8f00-4266-b85e-022e503f87ac",
      "metadata": {},
      "source": [
        "## Retrival eval"
      ]
    },
    {
      "cell_type": "markdown",
      "id": "834218ff-adf5-418b-9ecf-7d88987e780a",
      "metadata": {},
      "source": [
        "### VectorSearcher"
      ]
    },
    {
      "cell_type": "code",
      "execution_count": 16,
      "id": "0cb1b94d-65e8-4e14-a7d4-ee211a6a2e48",
      "metadata": {
        "trusted": true
      },
      "outputs": [
        {
          "data": {
            "application/vnd.jupyter.widget-view+json": {
              "model_id": "ad4b2b2ca77a4fe393ab1e66e8b7d11c",
              "version_major": 2,
              "version_minor": 0
            },
            "text/plain": [
              "Fetching 5 files:   0%|          | 0/5 [00:00<?, ?it/s]"
            ]
          },
          "metadata": {},
          "output_type": "display_data"
        }
      ],
      "source": [
        "vector_client = VectorSearcher()"
      ]
    },
    {
      "cell_type": "code",
      "execution_count": 9,
      "id": "5a80a64d-727c-4a10-9d2c-45e7fac653b5",
      "metadata": {
        "trusted": true
      },
      "outputs": [
        {
          "name": "stderr",
          "output_type": "stream",
          "text": [
            "100%|██████████| 450/450 [00:02<00:00, 154.86it/s]\n"
          ]
        }
      ],
      "source": [
        "vector_answers = []\n",
        "\n",
        "for question in tqdm(question_list):\n",
        "    qid, q = question.values()\n",
        "    results = vector_client.search(q)\n",
        "    results = list(enumerate(results, start=1))\n",
        "    for r, a in results:\n",
        "        vector_answers.append({'question_id': qid, 'question': q, \"rank\": r,\"answer\": a})"
      ]
    },
    {
      "cell_type": "code",
      "execution_count": 10,
      "id": "4177d5cc-6ede-4734-86bb-4e4f2bd64179",
      "metadata": {
        "trusted": true
      },
      "outputs": [],
      "source": [
        "pl.from_dicts(vector_answers).write_csv(\"./dataset/vector-answers.csv\")"
      ]
    },
    {
      "cell_type": "markdown",
      "id": "f89024f0-a872-4a15-bc2f-2f990fba3b1a",
      "metadata": {},
      "source": [
        "### HybridSearcher"
      ]
    },
    {
      "cell_type": "code",
      "execution_count": 52,
      "id": "2a251aa0-cd1b-440d-96a6-6f939b5928f5",
      "metadata": {
        "trusted": true
      },
      "outputs": [],
      "source": [
        "#question_list = question_list[:5]"
      ]
    },
    {
      "cell_type": "code",
      "execution_count": 6,
      "id": "fc867f53-6aee-451b-8f57-37508d63eb01",
      "metadata": {
        "scrolled": true,
        "trusted": true
      },
      "outputs": [
        {
          "data": {
            "application/vnd.jupyter.widget-view+json": {
              "model_id": "f36da9efbc614550b6894e373969508d",
              "version_major": 2,
              "version_minor": 0
            },
            "text/plain": [
              "Fetching 5 files:   0%|          | 0/5 [00:00<?, ?it/s]"
            ]
          },
          "metadata": {},
          "output_type": "display_data"
        }
      ],
      "source": [
        "hybrid_client = HybridSearcher()\n",
        "hybrid_answers = []"
      ]
    },
    {
      "cell_type": "code",
      "execution_count": 21,
      "id": "c8838fc8-48a2-4547-b0f9-cf10680c8873",
      "metadata": {
        "trusted": true
      },
      "outputs": [],
      "source": [
        "i = 0"
      ]
    },
    {
      "cell_type": "code",
      "execution_count": 22,
      "id": "3caf7983-1de4-4be8-8a5e-33bbd45876d7",
      "metadata": {
        "scrolled": true,
        "trusted": true
      },
      "outputs": [
        {
          "data": {
            "text/plain": [
              "['Title: Lemon Grilled Salmon\\nIngredients:\\n2 tsp. snipped fresh dill or 1/2 tsp. dill weed\\n1/2 tsp. lemon-pepper seasoning\\n1/2 tsp. salt (optional)\\n1/4 tsp. garlic powder\\n1 salmon fillet (1 1/2 lb.)\\n1/4 c. packed brown sugar\\n3 Tbsp. chicken broth\\n3 Tbsp. vegetable oil\\n1/2 Tbsp. soy sauce\\n3 Tbsp. chopped green onions (can substitute regular)\\n1 small lemon, thinly sliced\\n2 onion slices, separated into rings\\nDirections:\\nIn a small bowl, mix together dill, lemon-pepper, salt and garlic powder.\\nSprinkle on salmon.\\nPlace in a large resealable plastic bag or shallow glass container.\\nCombine brown sugar, broth, oil, soy sauce and green onions.\\nPour over the salmon. Cover and refrigerate for 1 hour.\\nTurn once.',\n",
              " 'Title: Pacific Salmon With Roasted Garlic\\nIngredients:\\n4 (6 oz.) salmon fillets\\n1 medium head garlic\\n1/4 c. olive oil\\n1 1/2 Tbsp. butter\\n1 fresh lemon\\nfresh rosemary, chopped\\nDirections:\\nSeparate garlic into cloves and peel. Place in small ramekin and cover with olive oil. Wrap with foil. Bake at 400° for 30 minutes. Place garlic and 1 tablespoon of oil from baked garlic in food processor. Add butter and puree; season with salt and fresh ground pepper.',\n",
              " 'Title: Grilled Lemon Salmon\\nIngredients:\\n2 tsp. fresh dill\\n1/2 tsp. pepper\\n1/2 tsp. salt\\n1/2 tsp. garlic powder\\n1 1/2 lb. salmon filet\\n1/4 c. brown sugar\\n3 Tbsp. oil\\n1 cube chicken bouillon, mixed with 3 Tbsp. water\\n3 Tbsp. soy sauce\\n4 Tbsp. green onions\\n1 lemon, thinly sliced\\n2 slices onions, separated into rings\\nDirections:\\nSprinkle dill, salt, pepper and garlic powder over salmon and place in shallow pan. Mix sugar, bouillon, oil, soy sauce and green onions. Pour over salmon. Cover and chill for 1 hour; turn once. Drain and discard marinade. Put on grill over medium heat; place lemon and onion on top. Cover and cook for 15 minutes or until fish is done.',\n",
              " 'Title: Barbecued Salmon\\nIngredients:\\n1/2 c. butter\\n2 cloves garlic, minced\\n1/2 c. dry white wine\\n3 Tbsp. chopped fresh herbs, such as chives, thyme, chervil, basil and parsley\\n2 tsp. grated lemon rind\\n1 whole chinook (king) salmon, butterflied with skin intact\\nDirections:\\nMelt 1 tablespoon of butter over low heat in a small, heavy saucepan.\\nAdd the garlic and cook briefly.\\nStir in wine and cook until reduced to 1/2 cup.\\nAdd the remaining butter and stir until melted.\\nStir in herbs and lemon rind.\\nSet aside.',\n",
              " 'Title: Herb Roasted Orange Salmon\\nIngredients:\\n1/4 c. orange juice\\n2 Tbsp. olive oil\\ngrated zest of 1 orange\\n2 tsp. minced garlic\\n2 tsp. dried tarragon\\nsalt and coarsely ground black pepper to taste\\n4 salmon fillets\\n2 tsp. freshly snipped chives\\nDirections:\\nMix together the orange juice, olive oil, orange zest, garlic, tarragon, salt and pepper.\\nAdd salmon and let set 1 hour, turning over every 10 to 15 minutes.\\nPreheat oven to 475°.\\nPlace salmon, skin side down, on baking sheet.\\nPour marinade over top.\\nBake 7 to 8 minutes or until salmon is just cooked through and flakes easily with a fork.']"
            ]
          },
          "execution_count": 22,
          "metadata": {},
          "output_type": "execute_result"
        }
      ],
      "source": [
        "vector_client.search(question_list[i][\"question\"])"
      ]
    },
    {
      "cell_type": "code",
      "execution_count": 23,
      "id": "222264ad-ac18-44f1-8226-0328c41ee6af",
      "metadata": {
        "trusted": true
      },
      "outputs": [
        {
          "data": {
            "text/plain": [
              "[]"
            ]
          },
          "execution_count": 23,
          "metadata": {},
          "output_type": "execute_result"
        }
      ],
      "source": [
        "hybrid_client.search(question_list[i][\"question\"])"
      ]
    },
    {
      "cell_type": "code",
      "execution_count": 53,
      "id": "3005786e-8946-40aa-928d-a0d289a6fed5",
      "metadata": {
        "trusted": true
      },
      "outputs": [
        {
          "name": "stderr",
          "output_type": "stream",
          "text": [
            "  0%|          | 0/5 [00:00<?, ?it/s]"
          ]
        },
        {
          "name": "stdout",
          "output_type": "stream",
          "text": [
            "1 How do I make a lemon herb baked salmon?\n"
          ]
        },
        {
          "name": "stderr",
          "output_type": "stream",
          "text": [
            " 20%|██        | 1/5 [00:01<00:07,  1.79s/it]"
          ]
        },
        {
          "name": "stdout",
          "output_type": "stream",
          "text": [
            "[]\n",
            "2 How do I make homemade hummus?\n"
          ]
        },
        {
          "name": "stderr",
          "output_type": "stream",
          "text": [
            " 40%|████      | 2/5 [00:02<00:04,  1.41s/it]"
          ]
        },
        {
          "name": "stdout",
          "output_type": "stream",
          "text": [
            "[]\n",
            "3 What can I make with polenta and mushrooms?\n"
          ]
        },
        {
          "name": "stderr",
          "output_type": "stream",
          "text": [
            " 60%|██████    | 3/5 [00:04<00:02,  1.41s/it]"
          ]
        },
        {
          "name": "stdout",
          "output_type": "stream",
          "text": [
            "[]\n",
            "4 I want a recipe for chicken made on the stove.\n"
          ]
        },
        {
          "name": "stderr",
          "output_type": "stream",
          "text": [
            " 80%|████████  | 4/5 [00:05<00:01,  1.41s/it]"
          ]
        },
        {
          "name": "stdout",
          "output_type": "stream",
          "text": [
            "[]\n",
            "5 What’s a good recipe for a no-knead bread?\n"
          ]
        },
        {
          "name": "stderr",
          "output_type": "stream",
          "text": [
            "100%|██████████| 5/5 [00:06<00:00,  1.40s/it]"
          ]
        },
        {
          "name": "stdout",
          "output_type": "stream",
          "text": [
            "[]\n"
          ]
        },
        {
          "name": "stderr",
          "output_type": "stream",
          "text": [
            "\n"
          ]
        }
      ],
      "source": [
        "qid_set = {d['question_id'] for d in hybrid_answers}\n",
        "\n",
        "for question in tqdm(question_list):\n",
        "    qid, q = question.values()\n",
        "    print(qid, q)\n",
        "    if not qid in qid_set:\n",
        "        results = hybrid_client.search(q)\n",
        "        results = list(enumerate(results, start=1))\n",
        "        print(results)\n",
        "        for r, a in results:\n",
        "            print({'question_id': qid, 'question': q, \"rank\": r,\"answer\": a})\n",
        "            hybrid_answers.append({'question_id': qid, 'question': q, \"rank\": r,\"answer\": a})"
      ]
    },
    {
      "cell_type": "code",
      "execution_count": 51,
      "id": "3388dc21-d263-4c26-9fe8-8c17a10e9065",
      "metadata": {
        "trusted": true
      },
      "outputs": [
        {
          "data": {
            "text/plain": [
              "0"
            ]
          },
          "execution_count": 51,
          "metadata": {},
          "output_type": "execute_result"
        }
      ],
      "source": [
        "len(hybrid_answers)"
      ]
    },
    {
      "cell_type": "code",
      "execution_count": null,
      "id": "8914a38d-2759-474a-b913-99a78ff15291",
      "metadata": {
        "trusted": true
      },
      "outputs": [],
      "source": [
        "pl.from_dicts(hybrid_answers).write_csv(\"./dataset/hybrid-answers.csv\")"
      ]
    },
    {
      "cell_type": "markdown",
      "id": "8ab4099b-8ae1-4aa4-a1b8-ac41b76a88a2",
      "metadata": {},
      "source": [
        "### Query rewrite + HybridSearcher"
      ]
    },
    {
      "cell_type": "code",
      "execution_count": null,
      "id": "d85ec51b-4d89-4718-b227-ab3e5d843cd8",
      "metadata": {
        "trusted": true
      },
      "outputs": [],
      "source": []
    },
    {
      "cell_type": "code",
      "execution_count": null,
      "id": "d2e1e04c-01a8-40f8-8d44-00dc9e244b87",
      "metadata": {
        "trusted": true
      },
      "outputs": [],
      "source": []
    },
    {
      "cell_type": "code",
      "execution_count": null,
      "id": "a3964732-d47b-4be6-a66d-8528be1740e8",
      "metadata": {
        "trusted": true
      },
      "outputs": [],
      "source": []
    }
  ],
  "metadata": {
    "kernelspec": {
      "display_name": "Python 3 (ipykernel)",
      "language": "python",
      "name": "python3"
    },
    "language_info": {
      "codemirror_mode": {
        "name": "ipython",
        "version": 3
      },
      "file_extension": ".py",
      "mimetype": "text/x-python",
      "name": "python",
      "nbconvert_exporter": "python",
      "pygments_lexer": "ipython3",
      "version": "3.10.15"
    }
  },
  "nbformat": 4,
  "nbformat_minor": 5
}
