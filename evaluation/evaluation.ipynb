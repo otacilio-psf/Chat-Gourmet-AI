{
 "cells": [
  {
   "cell_type": "code",
   "execution_count": 138,
   "id": "14d21c83-4caa-4094-a25a-fc3aab67290e",
   "metadata": {},
   "outputs": [],
   "source": [
    "from tqdm.notebook import tqdm\n",
    "from dotenv import load_dotenv\n",
    "from openai import OpenAI\n",
    "import polars as pl\n",
    "import json\n",
    "import sys\n",
    "import os"
   ]
  },
  {
   "cell_type": "code",
   "execution_count": 106,
   "id": "5a24215b-6e1b-4144-8050-474435f5e695",
   "metadata": {},
   "outputs": [],
   "source": [
    "load_dotenv()\n",
    "os.environ[\"OPENAI_MODEL_NAME\"] = \"llama-3.1-8b-instant\" # To be use as query rewrite"
   ]
  },
  {
   "cell_type": "code",
   "execution_count": 107,
   "id": "df5e3114-1075-4e10-861b-235a587d5ccd",
   "metadata": {},
   "outputs": [],
   "source": [
    "sys.path.append(os.path.abspath('../core'))"
   ]
  },
  {
   "cell_type": "code",
   "execution_count": 108,
   "id": "01d62b38-5cde-43d0-8c39-cfd330d5d91f",
   "metadata": {},
   "outputs": [],
   "source": [
    "from retrival import VectorSearcher, HybridSearcher\n",
    "from rag import query_rewrite "
   ]
  },
  {
   "cell_type": "code",
   "execution_count": 116,
   "id": "e6164569-df50-4a32-b9dd-47a6150bc6f0",
   "metadata": {},
   "outputs": [],
   "source": [
    "OPENAI_API_URL = os.environ[\"OPENAI_API_URL\"]\n",
    "OPENAI_API_KEY = os.environ[\"OPENAI_API_KEY\"]\n",
    "j_client = OpenAI(base_url=f\"{OPENAI_API_URL}/v1\", api_key=OPENAI_API_KEY)"
   ]
  },
  {
   "cell_type": "code",
   "execution_count": 157,
   "id": "03460e01-6913-4d79-9dda-05e30392cd6e",
   "metadata": {},
   "outputs": [],
   "source": [
    "def judge(question, answer, mode=\"retrival\"):\n",
    "    if mode==\"retrival\":\n",
    "        user_msg = f\"\"\"\n",
    "You are an expert evaluator for a Vector Database retrival that answer a recipe based on the user question.\n",
    "Your task is to analyze the relevance of the retrived answer to the given question.\n",
    "Based on the relevance of the generated answer, you will classify it\n",
    "as \"NON_RELEVANT\", \"PARTLY_RELEVANT\", or \"RELEVANT\".\n",
    "\n",
    "Definitions:\n",
    "- NON_RELEVANT: The answer does not relate to the user’s question.\n",
    "- PARTLY_RELEVANT: The answer addresses some aspects but omits or misinterprets key parts of the question.\n",
    "- RELEVANT: The answer fully addresses the question with correct, useful information.\n",
    "\n",
    "Please analyze the content and context of the generated answer in relation to the question\n",
    "and provide your evaluation in parsable JSON without using code blocks:\n",
    "\n",
    "{{\n",
    "  \"Relevance\": \"NON_RELEVANT\" | \"PARTLY_RELEVANT\" | \"RELEVANT\",\n",
    "  \"Explanation\": \"[Provide a brief explanation for your evaluation]\"\n",
    "}}\n",
    "\n",
    "Here is the data for evaluation:\n",
    "QUESTION:\n",
    "{question}\n",
    "\n",
    "RETRIVED ANSWER:\n",
    "{answer}\n",
    "\"\"\".strip()\n",
    "\n",
    "    elif mode==\"rag\":\n",
    "        user_msg = f\"\"\"\n",
    "You are an expert evaluator for a Retrieval-Augmented Generation (RAG) system that answer creative and detailed cooking suggestions for a single recipe idea, and instructions.\n",
    "Your task is to analyze the relevance of the generated answer to the given question.\n",
    "Based on the relevance of the generated answer, you will classify it\n",
    "as \"NON_RELEVANT\", \"PARTLY_RELEVANT\", or \"RELEVANT\".\n",
    "\n",
    "Definitions:\n",
    "- NON_RELEVANT: The answer does not relate to the user’s question.\n",
    "- PARTLY_RELEVANT: The answer addresses some aspects but omits or misinterprets key parts of the question.\n",
    "- RELEVANT: The answer fully addresses the question with correct, useful information.\n",
    "\n",
    "Please analyze the content and context of the generated answer in relation to the question\n",
    "and provide your evaluation in parsable JSON without using code blocks:\n",
    "\n",
    "{{\n",
    "  \"Relevance\": \"NON_RELEVANT\" | \"PARTLY_RELEVANT\" | \"RELEVANT\",\n",
    "  \"Explanation\": \"[Provide a brief explanation for your evaluation]\"\n",
    "}}\n",
    "\n",
    "Here is the data for evaluation:\n",
    "QUESTION:\n",
    "{question}\n",
    "\n",
    "GENERATED ANSWER:\n",
    "{answer}\n",
    "\"\"\".strip()\n",
    "    else:\n",
    "        raise Exception(\"Wrong mode\")\n",
    "    \n",
    "    verdict = j_client.chat.completions.create(\n",
    "        model=\"llama-3.1-70b-versatile\",\n",
    "        messages=[{\"role\": \"user\", \"content\": user_msg}],\n",
    "    )\n",
    "\n",
    "    content = verdict.choices[0].message.content\n",
    "    try:\n",
    "        return json.loads(content)\n",
    "    except:\n",
    "        raise Exception(content)\n"
   ]
  },
  {
   "cell_type": "markdown",
   "id": "18c32d43-3859-4fb5-a2d3-830cff2d2ac6",
   "metadata": {},
   "source": [
    "## Get questions"
   ]
  },
  {
   "cell_type": "code",
   "execution_count": 109,
   "id": "83d4d005-b05c-4411-aa9e-19c086c72575",
   "metadata": {},
   "outputs": [],
   "source": [
    "question_list = pl.read_csv(\"./dataset/synthetic-questions.csv\").to_dicts()"
   ]
  },
  {
   "cell_type": "code",
   "execution_count": 110,
   "id": "b1341bbd-c8e3-40ec-bd2f-df69b3027d7f",
   "metadata": {
    "scrolled": true
   },
   "outputs": [
    {
     "data": {
      "text/plain": [
       "[{'question_id': 1, 'question': 'How do I make a lemon herb baked salmon?'},\n",
       " {'question_id': 2, 'question': 'How do I make homemade hummus?'},\n",
       " {'question_id': 3, 'question': 'What can I make with polenta and mushrooms?'}]"
      ]
     },
     "execution_count": 110,
     "metadata": {},
     "output_type": "execute_result"
    }
   ],
   "source": [
    "question_list[:3]"
   ]
  },
  {
   "cell_type": "markdown",
   "id": "f5f1f924-8f00-4266-b85e-022e503f87ac",
   "metadata": {},
   "source": [
    "# Retrival eval"
   ]
  },
  {
   "cell_type": "markdown",
   "id": "109e173a-f3c0-4e12-a265-4feb5486d314",
   "metadata": {},
   "source": [
    "## Generate answers"
   ]
  },
  {
   "cell_type": "code",
   "execution_count": 115,
   "id": "1e9f6742-7f78-4a84-b416-959b58ca9c27",
   "metadata": {},
   "outputs": [],
   "source": [
    "def generate_answers(client, question_list, q_rewrite_func=False, **kwargs):\n",
    "    answers = []\n",
    "    no_answers = []\n",
    "\n",
    "    for question in tqdm(question_list):\n",
    "        qid, q = list(question.values())[:2]\n",
    "        final_q = q\n",
    "        \n",
    "        if callable(q_rewrite_func):\n",
    "            q_decision = q_rewrite_func(q)\n",
    "            if q_decision[\"search\"] == \"yes\":\n",
    "                final_q = q_decision[\"query\"]\n",
    "            elif q_decision[\"search\"] == \"no\":\n",
    "                no_answers.append({'question_id': qid, 'question': q, \"rank\": 99,\"answer\": \"NO QUERY\"})\n",
    "                continue\n",
    "        \n",
    "        results = client.search(final_q)\n",
    "        results = list(enumerate(results, start=1))\n",
    "        \n",
    "        if not results:\n",
    "            no_answers.append({'question_id': qid, 'question': q, \"rank\": 98,\"answer\": \"NO ANSWER\"})\n",
    "            continue\n",
    "        \n",
    "        for r, a in results:\n",
    "            answers.append({'question_id': qid, 'question': q, \"rank\": r,\"answer\": a})\n",
    "\n",
    "    # When using query rewrite the LLM can sometime at first reply as seach as no even it should be yes\n",
    "    if \"attempt\" in kwargs and \"max_attempts\" in kwargs and no_answers:\n",
    "        attempt = kwargs[\"attempt\"]\n",
    "        max_attempts = kwargs[\"max_attempts\"]\n",
    "        if not attempt > max_attempts:\n",
    "            print(f\"No answers: {len(no_answers)} | Attempt num: {attempt}\")\n",
    "            attempt_answers, final_no_answers = generate_answers(client, no_answers, q_rewrite_func=False, attempt=attempt+1, max_attempts=max_attempts)\n",
    "            answers += attempt_answers\n",
    "            no_answers = final_no_answers\n",
    "    \n",
    "    return answers, no_answers"
   ]
  },
  {
   "cell_type": "markdown",
   "id": "834218ff-adf5-418b-9ecf-7d88987e780a",
   "metadata": {},
   "source": [
    "### VectorSearcher"
   ]
  },
  {
   "cell_type": "code",
   "execution_count": 70,
   "id": "0cb1b94d-65e8-4e14-a7d4-ee211a6a2e48",
   "metadata": {},
   "outputs": [
    {
     "data": {
      "application/vnd.jupyter.widget-view+json": {
       "model_id": "f01ec60a9f0945fb928386ba0d1b178e",
       "version_major": 2,
       "version_minor": 0
      },
      "text/plain": [
       "Fetching 5 files:   0%|          | 0/5 [00:00<?, ?it/s]"
      ]
     },
     "metadata": {},
     "output_type": "display_data"
    }
   ],
   "source": [
    "vector_client = VectorSearcher()"
   ]
  },
  {
   "cell_type": "code",
   "execution_count": 71,
   "id": "5a80a64d-727c-4a10-9d2c-45e7fac653b5",
   "metadata": {},
   "outputs": [
    {
     "data": {
      "application/vnd.jupyter.widget-view+json": {
       "model_id": "b3eeb399873d4b68a55ab4d16a2c0b5e",
       "version_major": 2,
       "version_minor": 0
      },
      "text/plain": [
       "  0%|          | 0/450 [00:00<?, ?it/s]"
      ]
     },
     "metadata": {},
     "output_type": "display_data"
    },
    {
     "name": "stdout",
     "output_type": "stream",
     "text": [
      "0\n"
     ]
    }
   ],
   "source": [
    "vector_answers, vector_no_answers = generate_answers(vector_client, question_list)\n",
    "\n",
    "print(len(vector_no_answers))"
   ]
  },
  {
   "cell_type": "code",
   "execution_count": 72,
   "id": "4177d5cc-6ede-4734-86bb-4e4f2bd64179",
   "metadata": {},
   "outputs": [],
   "source": [
    "pl.from_dicts(vector_answers).write_csv(\"./dataset/vector-answers.csv\")"
   ]
  },
  {
   "cell_type": "markdown",
   "id": "f89024f0-a872-4a15-bc2f-2f990fba3b1a",
   "metadata": {},
   "source": [
    "### HybridSearcher"
   ]
  },
  {
   "cell_type": "code",
   "execution_count": 73,
   "id": "fc867f53-6aee-451b-8f57-37508d63eb01",
   "metadata": {
    "scrolled": true
   },
   "outputs": [
    {
     "data": {
      "application/vnd.jupyter.widget-view+json": {
       "model_id": "d6079cb2f02e451db59c88fb12633dfd",
       "version_major": 2,
       "version_minor": 0
      },
      "text/plain": [
       "Fetching 5 files:   0%|          | 0/5 [00:00<?, ?it/s]"
      ]
     },
     "metadata": {},
     "output_type": "display_data"
    },
    {
     "data": {
      "application/vnd.jupyter.widget-view+json": {
       "model_id": "86f396f379c544598288d91ca3f5be86",
       "version_major": 2,
       "version_minor": 0
      },
      "text/plain": [
       "Fetching 6 files:   0%|          | 0/6 [00:00<?, ?it/s]"
      ]
     },
     "metadata": {},
     "output_type": "display_data"
    }
   ],
   "source": [
    "hybrid_client = HybridSearcher()"
   ]
  },
  {
   "cell_type": "code",
   "execution_count": 75,
   "id": "af46e1ba-86c9-44e4-9cb2-2e43644e4241",
   "metadata": {},
   "outputs": [
    {
     "data": {
      "application/vnd.jupyter.widget-view+json": {
       "model_id": "4178617a60134ea48003913b0ef72fa5",
       "version_major": 2,
       "version_minor": 0
      },
      "text/plain": [
       "  0%|          | 0/450 [00:00<?, ?it/s]"
      ]
     },
     "metadata": {},
     "output_type": "display_data"
    },
    {
     "name": "stdout",
     "output_type": "stream",
     "text": [
      "0\n"
     ]
    }
   ],
   "source": [
    "hybrid_answers, hybrid_no_answers = generate_answers(hybrid_client, question_list)\n",
    "\n",
    "print(len(hybrid_no_answers))"
   ]
  },
  {
   "cell_type": "code",
   "execution_count": 77,
   "id": "8914a38d-2759-474a-b913-99a78ff15291",
   "metadata": {},
   "outputs": [],
   "source": [
    "pl.from_dicts(hybrid_answers).write_csv(\"./dataset/hybrid-answers.csv\")"
   ]
  },
  {
   "cell_type": "markdown",
   "id": "8ab4099b-8ae1-4aa4-a1b8-ac41b76a88a2",
   "metadata": {},
   "source": [
    "### Query rewrite + HybridSearcher"
   ]
  },
  {
   "cell_type": "code",
   "execution_count": 84,
   "id": "a3964732-d47b-4be6-a66d-8528be1740e8",
   "metadata": {},
   "outputs": [
    {
     "name": "stdout",
     "output_type": "stream",
     "text": [
      "How do I make a lemon herb baked salmon?\n",
      "{'search': 'yes', 'query': 'Ingredients: salmon\\nlemon\\nherb\\nDirections: bake'}\n"
     ]
    }
   ],
   "source": [
    "print(question_list[0]['question'])\n",
    "print(query_rewrite(question_list[0]['question']))"
   ]
  },
  {
   "cell_type": "code",
   "execution_count": 103,
   "id": "5cf309d2-c0a6-4ae4-b724-ae23611ac4e7",
   "metadata": {
    "scrolled": true
   },
   "outputs": [
    {
     "data": {
      "application/vnd.jupyter.widget-view+json": {
       "model_id": "4a220c46cf5a4708b506d5ae9b2b197a",
       "version_major": 2,
       "version_minor": 0
      },
      "text/plain": [
       "  0%|          | 0/450 [00:00<?, ?it/s]"
      ]
     },
     "metadata": {},
     "output_type": "display_data"
    },
    {
     "name": "stdout",
     "output_type": "stream",
     "text": [
      "No answers: 52 | Attempt num: 1\n"
     ]
    },
    {
     "data": {
      "application/vnd.jupyter.widget-view+json": {
       "model_id": "4f1a283494cd42d883964423ca18c5ad",
       "version_major": 2,
       "version_minor": 0
      },
      "text/plain": [
       "  0%|          | 0/52 [00:00<?, ?it/s]"
      ]
     },
     "metadata": {},
     "output_type": "display_data"
    }
   ],
   "source": [
    "qrewrite_answers, qrewrite_no_answers = generate_answers(vector_client, question_list, query_rewrite, attempt=1, max_attempts=5)"
   ]
  },
  {
   "cell_type": "code",
   "execution_count": 121,
   "id": "25aae7b7-2fe6-4aef-ba52-7f9e2c8a7381",
   "metadata": {},
   "outputs": [
    {
     "name": "stdout",
     "output_type": "stream",
     "text": [
      "[]\n"
     ]
    }
   ],
   "source": [
    "print(qrewrite_no_answers)"
   ]
  },
  {
   "cell_type": "code",
   "execution_count": 114,
   "id": "7ae6ee96-6d57-45f1-97e7-42fce5c8e444",
   "metadata": {},
   "outputs": [],
   "source": [
    "pl.from_dicts(qrewrite_answers).write_csv(\"./dataset/qrewrite-answers.csv\")"
   ]
  },
  {
   "cell_type": "markdown",
   "id": "cf7a191f-78bd-4680-9625-7f173f269d8d",
   "metadata": {},
   "source": [
    "## Judge"
   ]
  },
  {
   "cell_type": "code",
   "execution_count": 158,
   "id": "71964fdb-1ef5-43d3-98da-8b9d31b12257",
   "metadata": {
    "scrolled": true
   },
   "outputs": [
    {
     "data": {
      "text/plain": [
       "'How do I make a lemon herb baked salmon?'"
      ]
     },
     "execution_count": 158,
     "metadata": {},
     "output_type": "execute_result"
    }
   ],
   "source": [
    "hybrid_answers[0]['question']"
   ]
  },
  {
   "cell_type": "code",
   "execution_count": 159,
   "id": "157851a4-0cbb-4717-8275-dc5647bbb6f0",
   "metadata": {},
   "outputs": [
    {
     "name": "stdout",
     "output_type": "stream",
     "text": [
      "Title: Easy Herbed Grilled Salmon\n",
      "Ingredients:\n",
      "1/2 lb. salmon filet\n",
      "1 Tbsp. butter or margarine\n",
      "1/2 lemon\n",
      "2 Tbsp. white wine\n",
      "1/2 tsp. salt (optional)\n",
      "1/2 tsp. onion powder\n",
      "1/2 tsp. garlic powder\n",
      "1/2 tsp. lemon pepper\n",
      "1 tsp. oregano\n",
      "1/2 tsp. dill weed\n",
      "1/2 tsp. parsley flakes\n",
      "1/4 tsp. paprika\n",
      "Directions:\n",
      "Preheat grill. Make a tray out of heavy-duty foil by folding a long piece in half and folding up all 4 sides with the dull side up. Spray the bottom of the foil tray with cooking spray. Place fish filet in the tray, skin side down. Smear a thin line of butter on filet. Squeeze lemon juice liberally over filet and then a splash of white wine. Sprinkle remaining seasonings lightly over filet and transfer the foil tray to the hot grill. Cover. Cook for 10 minutes per inch of thickness of filet. DO NOT overcook or it will be dry and unpalatable. Turning is not necessary. Salmon is done when it turns a light pink color throughout.\n"
     ]
    }
   ],
   "source": [
    "print(hybrid_answers[0]['answer'])"
   ]
  },
  {
   "cell_type": "code",
   "execution_count": 160,
   "id": "529177a1-b57a-4edb-9ed0-09c0d7b0b196",
   "metadata": {},
   "outputs": [
    {
     "data": {
      "text/plain": [
       "{'Relevance': 'PARTLY_RELEVANT',\n",
       " 'Explanation': \"The retrieved answer is related to cooking salmon with herbs, but it focuses on grilling instead of baking and doesn't directly address lemon herb baked salmon. Some of the ingredients, such as lemon and herbs, match the question, but the cooking method differs.\"}"
      ]
     },
     "execution_count": 160,
     "metadata": {},
     "output_type": "execute_result"
    }
   ],
   "source": [
    "judge(hybrid_answers[0]['question'], hybrid_answers[0]['answer'], mode=\"retrival\")"
   ]
  },
  {
   "cell_type": "code",
   "execution_count": 168,
   "id": "ec591f07-6120-4a75-8277-a9ec70803232",
   "metadata": {},
   "outputs": [],
   "source": [
    "def generate_veredicts(answers, mode=\"retrival\"):\n",
    "    \n",
    "    for ans in tqdm(answers):\n",
    "        q = ans['question']\n",
    "        a = ans['answer']\n",
    "        v = judge(q, a, mode)\n",
    "        ans[\"relevance\"] = v[\"Relevance\"] \n",
    "        ans[\"explanation\"] = v[\"Explanation\"]\n",
    "\n",
    "    return answers"
   ]
  },
  {
   "cell_type": "markdown",
   "id": "af823f14-e314-409e-8ea7-2af65a83fb5c",
   "metadata": {},
   "source": [
    "### VectorSearcher"
   ]
  },
  {
   "cell_type": "code",
   "execution_count": 169,
   "id": "f4c0e64b-501d-4d53-aa99-a10894810392",
   "metadata": {
    "scrolled": true
   },
   "outputs": [
    {
     "data": {
      "application/vnd.jupyter.widget-view+json": {
       "model_id": "c2a536a9fac1493eb1284b2407a59ff2",
       "version_major": 2,
       "version_minor": 0
      },
      "text/plain": [
       "  0%|          | 0/2250 [00:00<?, ?it/s]"
      ]
     },
     "metadata": {},
     "output_type": "display_data"
    },
    {
     "ename": "Exception",
     "evalue": "\"Relevance\": \"RELEVANT\", \n\"Explanation\": \"The retrieved answer directly addresses the user's request for a vegetarian lasagna recipe by providing a title, ingredients, and detailed directions for preparation. The answer fully matches the question, providing a complete and useful response.\"",
     "output_type": "error",
     "traceback": [
      "\u001b[0;31m---------------------------------------------------------------------------\u001b[0m",
      "\u001b[0;31mJSONDecodeError\u001b[0m                           Traceback (most recent call last)",
      "Cell \u001b[0;32mIn[157], line 67\u001b[0m, in \u001b[0;36mjudge\u001b[0;34m(question, answer, mode)\u001b[0m\n\u001b[1;32m     66\u001b[0m \u001b[38;5;28;01mtry\u001b[39;00m:\n\u001b[0;32m---> 67\u001b[0m     \u001b[38;5;28;01mreturn\u001b[39;00m \u001b[43mjson\u001b[49m\u001b[38;5;241;43m.\u001b[39;49m\u001b[43mloads\u001b[49m\u001b[43m(\u001b[49m\u001b[43mcontent\u001b[49m\u001b[43m)\u001b[49m\n\u001b[1;32m     68\u001b[0m \u001b[38;5;28;01mexcept\u001b[39;00m:\n",
      "File \u001b[0;32m~/.local/share/uv/python/cpython-3.10.15-linux-x86_64-gnu/lib/python3.10/json/__init__.py:346\u001b[0m, in \u001b[0;36mloads\u001b[0;34m(s, cls, object_hook, parse_float, parse_int, parse_constant, object_pairs_hook, **kw)\u001b[0m\n\u001b[1;32m    343\u001b[0m \u001b[38;5;28;01mif\u001b[39;00m (\u001b[38;5;28mcls\u001b[39m \u001b[38;5;129;01mis\u001b[39;00m \u001b[38;5;28;01mNone\u001b[39;00m \u001b[38;5;129;01mand\u001b[39;00m object_hook \u001b[38;5;129;01mis\u001b[39;00m \u001b[38;5;28;01mNone\u001b[39;00m \u001b[38;5;129;01mand\u001b[39;00m\n\u001b[1;32m    344\u001b[0m         parse_int \u001b[38;5;129;01mis\u001b[39;00m \u001b[38;5;28;01mNone\u001b[39;00m \u001b[38;5;129;01mand\u001b[39;00m parse_float \u001b[38;5;129;01mis\u001b[39;00m \u001b[38;5;28;01mNone\u001b[39;00m \u001b[38;5;129;01mand\u001b[39;00m\n\u001b[1;32m    345\u001b[0m         parse_constant \u001b[38;5;129;01mis\u001b[39;00m \u001b[38;5;28;01mNone\u001b[39;00m \u001b[38;5;129;01mand\u001b[39;00m object_pairs_hook \u001b[38;5;129;01mis\u001b[39;00m \u001b[38;5;28;01mNone\u001b[39;00m \u001b[38;5;129;01mand\u001b[39;00m \u001b[38;5;129;01mnot\u001b[39;00m kw):\n\u001b[0;32m--> 346\u001b[0m     \u001b[38;5;28;01mreturn\u001b[39;00m \u001b[43m_default_decoder\u001b[49m\u001b[38;5;241;43m.\u001b[39;49m\u001b[43mdecode\u001b[49m\u001b[43m(\u001b[49m\u001b[43ms\u001b[49m\u001b[43m)\u001b[49m\n\u001b[1;32m    347\u001b[0m \u001b[38;5;28;01mif\u001b[39;00m \u001b[38;5;28mcls\u001b[39m \u001b[38;5;129;01mis\u001b[39;00m \u001b[38;5;28;01mNone\u001b[39;00m:\n",
      "File \u001b[0;32m~/.local/share/uv/python/cpython-3.10.15-linux-x86_64-gnu/lib/python3.10/json/decoder.py:340\u001b[0m, in \u001b[0;36mJSONDecoder.decode\u001b[0;34m(self, s, _w)\u001b[0m\n\u001b[1;32m    339\u001b[0m \u001b[38;5;28;01mif\u001b[39;00m end \u001b[38;5;241m!=\u001b[39m \u001b[38;5;28mlen\u001b[39m(s):\n\u001b[0;32m--> 340\u001b[0m     \u001b[38;5;28;01mraise\u001b[39;00m JSONDecodeError(\u001b[38;5;124m\"\u001b[39m\u001b[38;5;124mExtra data\u001b[39m\u001b[38;5;124m\"\u001b[39m, s, end)\n\u001b[1;32m    341\u001b[0m \u001b[38;5;28;01mreturn\u001b[39;00m obj\n",
      "\u001b[0;31mJSONDecodeError\u001b[0m: Extra data: line 1 column 12 (char 11)",
      "\nDuring handling of the above exception, another exception occurred:\n",
      "\u001b[0;31mException\u001b[0m                                 Traceback (most recent call last)",
      "Cell \u001b[0;32mIn[169], line 1\u001b[0m\n\u001b[0;32m----> 1\u001b[0m vector_veredict \u001b[38;5;241m=\u001b[39m \u001b[43mgenerate_veredicts\u001b[49m\u001b[43m(\u001b[49m\u001b[43mvector_answers\u001b[49m\u001b[43m)\u001b[49m\n",
      "Cell \u001b[0;32mIn[168], line 6\u001b[0m, in \u001b[0;36mgenerate_veredicts\u001b[0;34m(answers, mode)\u001b[0m\n\u001b[1;32m      4\u001b[0m q \u001b[38;5;241m=\u001b[39m ans[\u001b[38;5;124m'\u001b[39m\u001b[38;5;124mquestion\u001b[39m\u001b[38;5;124m'\u001b[39m]\n\u001b[1;32m      5\u001b[0m a \u001b[38;5;241m=\u001b[39m ans[\u001b[38;5;124m'\u001b[39m\u001b[38;5;124manswer\u001b[39m\u001b[38;5;124m'\u001b[39m]\n\u001b[0;32m----> 6\u001b[0m v \u001b[38;5;241m=\u001b[39m \u001b[43mjudge\u001b[49m\u001b[43m(\u001b[49m\u001b[43mq\u001b[49m\u001b[43m,\u001b[49m\u001b[43m \u001b[49m\u001b[43ma\u001b[49m\u001b[43m,\u001b[49m\u001b[43m \u001b[49m\u001b[43mmode\u001b[49m\u001b[43m)\u001b[49m\n\u001b[1;32m      7\u001b[0m ans[\u001b[38;5;124m\"\u001b[39m\u001b[38;5;124mrelevance\u001b[39m\u001b[38;5;124m\"\u001b[39m] \u001b[38;5;241m=\u001b[39m v[\u001b[38;5;124m\"\u001b[39m\u001b[38;5;124mRelevance\u001b[39m\u001b[38;5;124m\"\u001b[39m] \n\u001b[1;32m      8\u001b[0m ans[\u001b[38;5;124m\"\u001b[39m\u001b[38;5;124mexplanation\u001b[39m\u001b[38;5;124m\"\u001b[39m] \u001b[38;5;241m=\u001b[39m v[\u001b[38;5;124m\"\u001b[39m\u001b[38;5;124mExplanation\u001b[39m\u001b[38;5;124m\"\u001b[39m]\n",
      "Cell \u001b[0;32mIn[157], line 69\u001b[0m, in \u001b[0;36mjudge\u001b[0;34m(question, answer, mode)\u001b[0m\n\u001b[1;32m     67\u001b[0m     \u001b[38;5;28;01mreturn\u001b[39;00m json\u001b[38;5;241m.\u001b[39mloads(content)\n\u001b[1;32m     68\u001b[0m \u001b[38;5;28;01mexcept\u001b[39;00m:\n\u001b[0;32m---> 69\u001b[0m     \u001b[38;5;28;01mraise\u001b[39;00m \u001b[38;5;167;01mException\u001b[39;00m(content)\n",
      "\u001b[0;31mException\u001b[0m: \"Relevance\": \"RELEVANT\", \n\"Explanation\": \"The retrieved answer directly addresses the user's request for a vegetarian lasagna recipe by providing a title, ingredients, and detailed directions for preparation. The answer fully matches the question, providing a complete and useful response.\""
     ]
    }
   ],
   "source": [
    "vector_veredict = generate_veredicts(vector_answers)"
   ]
  },
  {
   "cell_type": "code",
   "execution_count": null,
   "id": "32ebb4da-807f-43ab-aca7-89f197d1e210",
   "metadata": {},
   "outputs": [],
   "source": [
    "pl.from_dicts(vector_veredict).write_csv(\"./dataset/vector-veredict.csv\")"
   ]
  },
  {
   "cell_type": "markdown",
   "id": "efaca519-5c7a-46ce-82d4-6f238fdc9170",
   "metadata": {},
   "source": [
    "### HybridSearcher"
   ]
  },
  {
   "cell_type": "code",
   "execution_count": null,
   "id": "7b1e4ac7-48a5-4052-b2cf-ca0e28899e8b",
   "metadata": {},
   "outputs": [],
   "source": [
    "hybrid_veredict = generate_veredicts(hybrid_answers)"
   ]
  },
  {
   "cell_type": "code",
   "execution_count": null,
   "id": "e0ec9029-d49f-4ca7-ae2d-d530074159ec",
   "metadata": {},
   "outputs": [],
   "source": [
    "pl.from_dicts(hybrid_veredict).write_csv(\"./dataset/hybrid-veredict.csv\")"
   ]
  },
  {
   "cell_type": "markdown",
   "id": "a7bd467c-9ae8-45e1-8258-e0cc10897e94",
   "metadata": {},
   "source": [
    "### Query rewrite + HybridSearcher"
   ]
  },
  {
   "cell_type": "code",
   "execution_count": null,
   "id": "0745026e-ed24-42ce-b27a-3693c96662b4",
   "metadata": {},
   "outputs": [],
   "source": [
    "qrewrite_veredict = generate_veredicts(qrewrite_answers)"
   ]
  },
  {
   "cell_type": "code",
   "execution_count": null,
   "id": "3d4690d1-2188-4325-9232-0eaa6ce07cf9",
   "metadata": {},
   "outputs": [],
   "source": [
    "pl.from_dicts(qrewrite_veredict).write_csv(\"./dataset/qrewrite-veredict.csv\")"
   ]
  },
  {
   "cell_type": "code",
   "execution_count": null,
   "id": "89de3037-e6fa-4022-920e-7df4fc747131",
   "metadata": {},
   "outputs": [],
   "source": []
  }
 ],
 "metadata": {
  "kernelspec": {
   "display_name": "Python 3 (ipykernel)",
   "language": "python",
   "name": "python3"
  },
  "language_info": {
   "codemirror_mode": {
    "name": "ipython",
    "version": 3
   },
   "file_extension": ".py",
   "mimetype": "text/x-python",
   "name": "python",
   "nbconvert_exporter": "python",
   "pygments_lexer": "ipython3",
   "version": "3.10.15"
  }
 },
 "nbformat": 4,
 "nbformat_minor": 5
}
