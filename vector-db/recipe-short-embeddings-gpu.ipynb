{
 "cells": [
  {
   "cell_type": "code",
   "execution_count": null,
   "metadata": {
    "trusted": true
   },
   "outputs": [],
   "source": [
    "!pip install uv"
   ]
  },
  {
   "cell_type": "code",
   "execution_count": null,
   "metadata": {
    "trusted": true
   },
   "outputs": [],
   "source": [
    "!uv pip install onnxruntime-gpu -i https://aiinfra.pkgs.visualstudio.com/PublicPackages/_packaging/onnxruntime-cuda-12/pypi/simple/ --system --quiet\n",
    "!uv pip install fastembed-gpu huggingface_hub --system --quiet"
   ]
  },
  {
   "cell_type": "code",
   "execution_count": null,
   "metadata": {
    "_cell_guid": "b1076dfc-b9ad-4769-8c92-a6c4dae69d19",
    "_uuid": "8f2839f25d086af736a60e9eeb907d3b93b6e0e5",
    "trusted": true
   },
   "outputs": [],
   "source": [
    "from fastembed import TextEmbedding, SparseTextEmbedding, SparseEmbedding\n",
    "from kaggle_secrets import UserSecretsClient\n",
    "from datasets import Dataset\n",
    "from typing import List\n",
    "import huggingface_hub\n",
    "import polars as pl\n",
    "import numpy as np\n",
    "import tqdm\n",
    "import ast\n",
    "import os"
   ]
  },
  {
   "cell_type": "code",
   "execution_count": null,
   "metadata": {
    "trusted": true
   },
   "outputs": [],
   "source": [
    "user_secrets = UserSecretsClient()\n",
    "hf_toke_write = user_secrets.get_secret(\"hf_toke_write\")\n",
    "os.environ[\"HF_TOKEN\"] = hf_toke_write"
   ]
  },
  {
   "cell_type": "code",
   "execution_count": null,
   "metadata": {
    "trusted": true
   },
   "outputs": [],
   "source": [
    "huggingface_hub.login(hf_toke_write)"
   ]
  },
  {
   "cell_type": "code",
   "execution_count": null,
   "metadata": {
    "trusted": true
   },
   "outputs": [],
   "source": [
    "def process_data_structure(row):\n",
    "    doc_template = \"\"\"\n",
    "Title: {title}\n",
    "Ingredients:\\n{ingredients}\n",
    "Directions:\\n{directions}\n",
    "\"\"\"\n",
    "    new_row = list()\n",
    "\n",
    "    for value in row:\n",
    "        if isinstance(value, str):\n",
    "            if value.startswith(\"[\") and value.endswith(\"]\"):\n",
    "                string_list_value = ast.literal_eval(value)\n",
    "                list_value = [item.strip() for item in string_list_value]\n",
    "                new_row.append(list_value)\n",
    "            else:\n",
    "                new_row.append(value.strip())\n",
    "        else:\n",
    "            new_row.append(value)\n",
    "\n",
    "    new_row[2] = \"\\n\".join(new_row[2])\n",
    "    new_row[3] = \"\\n\".join(new_row[3])\n",
    "\n",
    "    new_row.append({\"title\": new_row[1], \"NER\": new_row[6]})\n",
    "    new_row.append(\n",
    "        doc_template.format(\n",
    "            title=new_row[1], ingredients=new_row[2], directions=new_row[3]\n",
    "        ).strip()\n",
    "    )\n",
    "\n",
    "    return tuple(new_row)"
   ]
  },
  {
   "cell_type": "code",
   "execution_count": null,
   "metadata": {
    "trusted": true
   },
   "outputs": [],
   "source": [
    "model = TextEmbedding(\n",
    "    model_name=\"sentence-transformers/all-MiniLM-L6-v2\",\n",
    "    providers=[\"CUDAExecutionProvider\"],\n",
    ")\n",
    "sparse_model = SparseTextEmbedding(\n",
    "    model_name=\"Qdrant/bm42-all-minilm-l6-v2-attentions\",\n",
    "    providers=[\"CUDAExecutionProvider\"],\n",
    ")"
   ]
  },
  {
   "cell_type": "code",
   "execution_count": null,
   "metadata": {
    "trusted": true
   },
   "outputs": [],
   "source": [
    "df = (\n",
    "    pl.read_parquet(\"hf://datasets/rk404/recipe_short/final_recipes.parquet\")\n",
    "    .map_rows(process_data_structure)\n",
    "    .rename(\n",
    "        {\n",
    "            \"column_0\": \"id\",\n",
    "            \"column_1\": \"title\",\n",
    "            \"column_2\": \"ingredients\",\n",
    "            \"column_3\": \"directions\",\n",
    "            \"column_4\": \"link\",\n",
    "            \"column_5\": \"source\",\n",
    "            \"column_6\": \"NER\",\n",
    "            \"column_7\": \"metadata\",\n",
    "            \"column_8\": \"document\",\n",
    "        }\n",
    "    )\n",
    ")\n",
    "\n",
    "data = df.to_dict(as_series=False)"
   ]
  },
  {
   "cell_type": "code",
   "execution_count": null,
   "metadata": {
    "trusted": true
   },
   "outputs": [],
   "source": [
    "embeddings_list: List[np.array] = list(\n",
    "    model.embed(tqdm.tqdm(data[\"document\"]), batch_size=100)\n",
    ")"
   ]
  },
  {
   "cell_type": "code",
   "execution_count": null,
   "metadata": {
    "trusted": true
   },
   "outputs": [],
   "source": [
    "sparse_embeddings_list: List[SparseEmbedding] = list(\n",
    "    sparse_model.embed(tqdm.tqdm(data[\"document\"]), batch_size=100)\n",
    ")"
   ]
  },
  {
   "cell_type": "code",
   "execution_count": null,
   "metadata": {
    "trusted": true
   },
   "outputs": [],
   "source": [
    "data[\"all-MiniLM-L6-v2\"] = embeddings_list"
   ]
  },
  {
   "cell_type": "code",
   "execution_count": null,
   "metadata": {
    "trusted": true
   },
   "outputs": [],
   "source": [
    "data[\"bm42-all-minilm-l6-v2-attentions\"] = [\n",
    "    i.as_object() for i in sparse_embeddings_list\n",
    "]"
   ]
  },
  {
   "cell_type": "code",
   "execution_count": null,
   "metadata": {
    "trusted": true
   },
   "outputs": [],
   "source": [
    "ds = Dataset.from_dict(data)"
   ]
  },
  {
   "cell_type": "code",
   "execution_count": null,
   "metadata": {
    "trusted": true
   },
   "outputs": [],
   "source": [
    "ds.push_to_hub(\"otacilio-psf/recipe_short_dense_and_sparse_embeddings\")"
   ]
  },
  {
   "cell_type": "code",
   "execution_count": null,
   "metadata": {},
   "outputs": [],
   "source": []
  }
 ],
 "metadata": {
  "kaggle": {
   "accelerator": "nvidiaTeslaT4",
   "dataSources": [],
   "dockerImageVersionId": 30762,
   "isGpuEnabled": true,
   "isInternetEnabled": true,
   "language": "python",
   "sourceType": "notebook"
  },
  "kernelspec": {
   "display_name": "Python 3",
   "language": "python",
   "name": "python3"
  },
  "language_info": {
   "codemirror_mode": {
    "name": "ipython",
    "version": 3
   },
   "file_extension": ".py",
   "mimetype": "text/x-python",
   "name": "python",
   "nbconvert_exporter": "python",
   "pygments_lexer": "ipython3",
   "version": "3.10.14"
  }
 },
 "nbformat": 4,
 "nbformat_minor": 4
}